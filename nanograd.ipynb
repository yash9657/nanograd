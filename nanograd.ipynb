{
  "nbformat": 4,
  "nbformat_minor": 0,
  "metadata": {
    "colab": {
      "provenance": []
    },
    "kernelspec": {
      "name": "python3",
      "display_name": "Python 3"
    },
    "language_info": {
      "name": "python"
    }
  },
  "cells": [
    {
      "cell_type": "code",
      "execution_count": 1,
      "metadata": {
        "id": "0HYRJ3uz2O_T"
      },
      "outputs": [],
      "source": [
        "import math\n",
        "import numpy as np\n",
        "import matplotlib.pyplot as plt\n",
        "%matplotlib inline"
      ]
    },
    {
      "cell_type": "code",
      "source": [
        "class Value:\n",
        "  def __init__(self, data, _children=(), _op='', label=''):\n",
        "    self.data = data\n",
        "    self.grad = 0.0 # 0 means that at initialisation we are assuming that the value does not affect the output\n",
        "    self._backward = lambda: None\n",
        "    # i.e. changing this variable is not changing the loss function L\n",
        "    self._prev = set(_children) # this is used to maintain what values actually created the output\n",
        "    self._op = _op # this is used to maintain what operation was used to create the output\n",
        "    self.label = label\n",
        "\n",
        "  def __repr__(self):\n",
        "    return f\"Value(data={self.data})\"\n",
        "\n",
        "  def __add__(self, other):\n",
        "    other = other if isinstance(other, Value) else Value(other) # just to be able to operations like a + 1 on integers etc.\n",
        "    out = Value(self.data + other.data, (self, other), '+')\n",
        "    def _backward():\n",
        "      # our job from the above written line is to take 'out''s grad and propogate it to 'self''s grad and other nodes grad\n",
        "      self.grad += 1.0 * out.grad\n",
        "      other.grad += 1.0 * out.grad\n",
        "\n",
        "    out._backward = _backward\n",
        "    return out\n",
        "\n",
        "  def __mul__(self, other):\n",
        "    other = other if isinstance(other, Value) else Value(other)\n",
        "    out = Value(self.data * other.data, (self, other), '*')\n",
        "    def _backward():\n",
        "      self.grad += out.grad * other.data\n",
        "      other.grad += out.grad * self.data\n",
        "    out._backward = _backward\n",
        "    return out\n",
        "\n",
        "  def __rmul__(self, other):\n",
        "    return self * other\n",
        "\n",
        "  def __pow__(self, other):\n",
        "    assert isinstance(other, (int, float)), \"only supporting int/float powers\"\n",
        "    out = Value(self.data**other, (self, ), f'**{other}')\n",
        "\n",
        "    def _backward():\n",
        "      self.grad += other * (self.data ** (other - 1)) * out.grad\n",
        "    out._backward = _backward\n",
        "    return out\n",
        "\n",
        "  def __neg__(self):\n",
        "    return self * -1\n",
        "\n",
        "  def __sub__(self, other):\n",
        "    return self + (-other)\n",
        "\n",
        "  def __truediv__(self, other):\n",
        "    return self * other**-1\n",
        "\n",
        "  def tanh(self):\n",
        "    x = self.data\n",
        "    t = (math.exp(2*x) - 1)/(math.exp(2*x) + 1)\n",
        "    out = Value(t, (self, ), 'tanh')\n",
        "    def _backward():\n",
        "      self.grad += out.grad * (1 - t**2)\n",
        "    out._backward = _backward\n",
        "    return out\n",
        "\n",
        "  def exp(self):\n",
        "    x = self.data\n",
        "    out  = Value(math.exp(x), (self, ), 'exp')\n",
        "\n",
        "    def _backward():\n",
        "      self.grad += out.data * out.grad\n",
        "    out._backward = _backward\n",
        "    return out\n",
        "\n",
        "  def backward(self):\n",
        "    topo = []\n",
        "    visited = set()\n",
        "    def build_topo(v):\n",
        "      if v not in visited:\n",
        "        visited.add(v)\n",
        "        for child in v._prev:\n",
        "          build_topo(child)\n",
        "        topo.append(v)\n",
        "\n",
        "    build_topo(self)\n",
        "\n",
        "    self.grad  = 1.0\n",
        "    for node in reversed(topo):\n",
        "      node._backward()"
      ],
      "metadata": {
        "id": "0toK8Wj1wY5g"
      },
      "execution_count": 2,
      "outputs": []
    },
    {
      "cell_type": "code",
      "source": [
        "a = Value(2.0)\n",
        "b = Value(4.0)\n",
        "a - b"
      ],
      "metadata": {
        "colab": {
          "base_uri": "https://localhost:8080/"
        },
        "id": "XkALkcTXsphY",
        "outputId": "1b614615-f766-4207-ec02-0decc7cd133d"
      },
      "execution_count": 3,
      "outputs": [
        {
          "output_type": "execute_result",
          "data": {
            "text/plain": [
              "Value(data=-2.0)"
            ]
          },
          "metadata": {},
          "execution_count": 3
        }
      ]
    },
    {
      "cell_type": "code",
      "source": [
        "from graphviz import Digraph\n",
        "\n",
        "def trace(root):\n",
        "  # builds a set of all nodes and edges in a graph\n",
        "  nodes, edges = set(), set()\n",
        "  def build(v):\n",
        "    if v not in nodes:\n",
        "      nodes.add(v)\n",
        "      for child in v._prev:\n",
        "        edges.add((child, v))\n",
        "        build(child)\n",
        "  build(root)\n",
        "  return nodes, edges\n",
        "\n",
        "def draw_dot(root):\n",
        "  dot = Digraph(format='svg', graph_attr={'rankdir': 'LR'}) # LR = left to right\n",
        "\n",
        "  nodes, edges = trace(root)\n",
        "  for n in nodes:\n",
        "    uid = str(id(n))\n",
        "    # for any value in the graph, create and rectangular ('record') node for it\n",
        "    dot.node(name = uid, label = \"{ %s | data %.4f | grad %.4f}\" % (n.label, n.data, n.grad), shape='record')\n",
        "    if n._op:\n",
        "      # if this value is a result of some operation, create an op node for it\n",
        "      dot.node(name = uid + n._op, label = n._op)\n",
        "      # and connect this node to it\n",
        "      dot.edge(uid + n._op, uid)\n",
        "\n",
        "  for n1, n2 in edges:\n",
        "    # connect n1 to the op node of n2\n",
        "    dot.edge(str(id(n1)), str(id(n2)) + n2._op)\n",
        "\n",
        "  return dot"
      ],
      "metadata": {
        "id": "l2ub0J8gS0gD"
      },
      "execution_count": 4,
      "outputs": []
    },
    {
      "cell_type": "code",
      "source": [
        "# now we would like to do back propogation i.e. start from the end node and go back and calculate the gradient at all these previous values\n",
        "# essentially the derivative of L wrt to each of these parameters\n",
        "# i.e. the derivative of this loss function wrt this loss function wrt to the weights a,b,c,d,e,f"
      ],
      "metadata": {
        "id": "ktXmnoypSCON"
      },
      "execution_count": null,
      "outputs": []
    },
    {
      "cell_type": "markdown",
      "source": [
        "# What is backpropagation?\n",
        "Backpropogation is the method we use to calculate gradients for each parameter (like weights and biases) in the network. It is basically the chain rule applied over the entire network\n",
        "\n",
        "How it works?\n",
        "\n",
        "\n",
        "*   Forward Pass - The network process an input and produces an output. During this pass, it records the operations it performs.\n",
        "*   Loss Function - The output is compared to the true value using a loss or cost function (for eg. mean squared error). This loss quantifies 'how wrong' the network is.\n",
        "*   Backward Pass - Using the chain rule, we calculate how much each parameter contributed to the error by propogating the loss backward through the network. This tells us the gradient (i.e. how much a small change in a parameter would change the loss).\n",
        "\n",
        "\n",
        "\n"
      ],
      "metadata": {
        "id": "UhiBei3nybTY"
      }
    },
    {
      "cell_type": "code",
      "source": [
        "x1 = Value(2.0, label='x1')\n",
        "x2 = Value(0.0, label='x2')\n",
        "# weights w1, w2\n",
        "w1 = Value(-3.0, label='w1')\n",
        "w2 = Value(1.0, label='w2')\n",
        "# bias of the neuron\n",
        "b = Value(6.8813735870195432, label='b')\n",
        "x1w1 = x1 * w1; x1w1.label = 'x1w1'\n",
        "x2w2 = x2 * w2; x2w2.label = 'x2w2'\n",
        "x1w1x2w2 = x1w1 + x2w2; x1w1x2w2.label = 'x1w1x2w2'\n",
        "n = x1w1x2w2 + b; n.label = 'n'\n",
        "o = n.tanh(); o.label = 'o'\n",
        "o.backward()"
      ],
      "metadata": {
        "id": "Rb__lnsTTt9l"
      },
      "execution_count": 5,
      "outputs": []
    },
    {
      "cell_type": "code",
      "source": [
        "draw_dot(o)"
      ],
      "metadata": {
        "colab": {
          "base_uri": "https://localhost:8080/",
          "height": 322
        },
        "id": "3K8ELEqLf5Wz",
        "outputId": "2fac7268-6d93-4127-8143-c009aec1dd4a"
      },
      "execution_count": 6,
      "outputs": [
        {
          "output_type": "execute_result",
          "data": {
            "image/svg+xml": "<?xml version=\"1.0\" encoding=\"UTF-8\" standalone=\"no\"?>\n<!DOCTYPE svg PUBLIC \"-//W3C//DTD SVG 1.1//EN\"\n \"http://www.w3.org/Graphics/SVG/1.1/DTD/svg11.dtd\">\n<!-- Generated by graphviz version 2.43.0 (0)\n -->\n<!-- Title: %3 Pages: 1 -->\n<svg width=\"1540pt\" height=\"210pt\"\n viewBox=\"0.00 0.00 1540.00 210.00\" xmlns=\"http://www.w3.org/2000/svg\" xmlns:xlink=\"http://www.w3.org/1999/xlink\">\n<g id=\"graph0\" class=\"graph\" transform=\"scale(1 1) rotate(0) translate(4 206)\">\n<title>%3</title>\n<polygon fill=\"white\" stroke=\"transparent\" points=\"-4,4 -4,-206 1536,-206 1536,4 -4,4\"/>\n<!-- 138222430003216 -->\n<g id=\"node1\" class=\"node\">\n<title>138222430003216</title>\n<polygon fill=\"none\" stroke=\"black\" points=\"695.5,-137.5 695.5,-173.5 880.5,-173.5 880.5,-137.5 695.5,-137.5\"/>\n<text text-anchor=\"middle\" x=\"707\" y=\"-151.8\" font-family=\"Times,serif\" font-size=\"14.00\">b</text>\n<polyline fill=\"none\" stroke=\"black\" points=\"718.5,-137.5 718.5,-173.5 \"/>\n<text text-anchor=\"middle\" x=\"758.5\" y=\"-151.8\" font-family=\"Times,serif\" font-size=\"14.00\">data 6.8814</text>\n<polyline fill=\"none\" stroke=\"black\" points=\"798.5,-137.5 798.5,-173.5 \"/>\n<text text-anchor=\"middle\" x=\"839.5\" y=\"-151.8\" font-family=\"Times,serif\" font-size=\"14.00\">grad 0.5000</text>\n</g>\n<!-- 138222430004176+ -->\n<g id=\"node15\" class=\"node\">\n<title>138222430004176+</title>\n<ellipse fill=\"none\" stroke=\"black\" cx=\"973\" cy=\"-127.5\" rx=\"27\" ry=\"18\"/>\n<text text-anchor=\"middle\" x=\"973\" y=\"-123.8\" font-family=\"Times,serif\" font-size=\"14.00\">+</text>\n</g>\n<!-- 138222430003216&#45;&gt;138222430004176+ -->\n<g id=\"edge12\" class=\"edge\">\n<title>138222430003216&#45;&gt;138222430004176+</title>\n<path fill=\"none\" stroke=\"black\" d=\"M880.77,-141.46C900.52,-138.44 920.26,-135.42 936.29,-132.96\"/>\n<polygon fill=\"black\" stroke=\"black\" points=\"936.9,-136.41 946.26,-131.44 935.85,-129.49 936.9,-136.41\"/>\n</g>\n<!-- 138222430008912 -->\n<g id=\"node2\" class=\"node\">\n<title>138222430008912</title>\n<polygon fill=\"none\" stroke=\"black\" points=\"666,-82.5 666,-118.5 910,-118.5 910,-82.5 666,-82.5\"/>\n<text text-anchor=\"middle\" x=\"704.5\" y=\"-96.8\" font-family=\"Times,serif\" font-size=\"14.00\">x1w1x2w2</text>\n<polyline fill=\"none\" stroke=\"black\" points=\"743,-82.5 743,-118.5 \"/>\n<text text-anchor=\"middle\" x=\"785.5\" y=\"-96.8\" font-family=\"Times,serif\" font-size=\"14.00\">data &#45;6.0000</text>\n<polyline fill=\"none\" stroke=\"black\" points=\"828,-82.5 828,-118.5 \"/>\n<text text-anchor=\"middle\" x=\"869\" y=\"-96.8\" font-family=\"Times,serif\" font-size=\"14.00\">grad 0.5000</text>\n</g>\n<!-- 138222430008912&#45;&gt;138222430004176+ -->\n<g id=\"edge7\" class=\"edge\">\n<title>138222430008912&#45;&gt;138222430004176+</title>\n<path fill=\"none\" stroke=\"black\" d=\"M910.04,-118.36C919.47,-119.75 928.43,-121.07 936.46,-122.26\"/>\n<polygon fill=\"black\" stroke=\"black\" points=\"936.03,-125.73 946.43,-123.73 937.05,-118.81 936.03,-125.73\"/>\n</g>\n<!-- 138222430008912+ -->\n<g id=\"node3\" class=\"node\">\n<title>138222430008912+</title>\n<ellipse fill=\"none\" stroke=\"black\" cx=\"603\" cy=\"-100.5\" rx=\"27\" ry=\"18\"/>\n<text text-anchor=\"middle\" x=\"603\" y=\"-96.8\" font-family=\"Times,serif\" font-size=\"14.00\">+</text>\n</g>\n<!-- 138222430008912+&#45;&gt;138222430008912 -->\n<g id=\"edge1\" class=\"edge\">\n<title>138222430008912+&#45;&gt;138222430008912</title>\n<path fill=\"none\" stroke=\"black\" d=\"M630.22,-100.5C637.7,-100.5 646.4,-100.5 655.79,-100.5\"/>\n<polygon fill=\"black\" stroke=\"black\" points=\"655.8,-104 665.8,-100.5 655.8,-97 655.8,-104\"/>\n</g>\n<!-- 138222430004432 -->\n<g id=\"node4\" class=\"node\">\n<title>138222430004432</title>\n<polygon fill=\"none\" stroke=\"black\" points=\"328.5,-110.5 328.5,-146.5 537.5,-146.5 537.5,-110.5 328.5,-110.5\"/>\n<text text-anchor=\"middle\" x=\"352\" y=\"-124.8\" font-family=\"Times,serif\" font-size=\"14.00\">x2w2</text>\n<polyline fill=\"none\" stroke=\"black\" points=\"375.5,-110.5 375.5,-146.5 \"/>\n<text text-anchor=\"middle\" x=\"415.5\" y=\"-124.8\" font-family=\"Times,serif\" font-size=\"14.00\">data 0.0000</text>\n<polyline fill=\"none\" stroke=\"black\" points=\"455.5,-110.5 455.5,-146.5 \"/>\n<text text-anchor=\"middle\" x=\"496.5\" y=\"-124.8\" font-family=\"Times,serif\" font-size=\"14.00\">grad 0.5000</text>\n</g>\n<!-- 138222430004432&#45;&gt;138222430008912+ -->\n<g id=\"edge9\" class=\"edge\">\n<title>138222430004432&#45;&gt;138222430008912+</title>\n<path fill=\"none\" stroke=\"black\" d=\"M537.53,-111.25C547.8,-109.53 557.66,-107.89 566.45,-106.43\"/>\n<polygon fill=\"black\" stroke=\"black\" points=\"567.3,-109.83 576.59,-104.74 566.15,-102.93 567.3,-109.83\"/>\n</g>\n<!-- 138222430004432* -->\n<g id=\"node5\" class=\"node\">\n<title>138222430004432*</title>\n<ellipse fill=\"none\" stroke=\"black\" cx=\"263\" cy=\"-128.5\" rx=\"27\" ry=\"18\"/>\n<text text-anchor=\"middle\" x=\"263\" y=\"-124.8\" font-family=\"Times,serif\" font-size=\"14.00\">*</text>\n</g>\n<!-- 138222430004432*&#45;&gt;138222430004432 -->\n<g id=\"edge2\" class=\"edge\">\n<title>138222430004432*&#45;&gt;138222430004432</title>\n<path fill=\"none\" stroke=\"black\" d=\"M290.25,-128.5C298.43,-128.5 308.03,-128.5 318.31,-128.5\"/>\n<polygon fill=\"black\" stroke=\"black\" points=\"318.35,-132 328.35,-128.5 318.35,-125 318.35,-132\"/>\n</g>\n<!-- 138222430001360 -->\n<g id=\"node6\" class=\"node\">\n<title>138222430001360</title>\n<polygon fill=\"none\" stroke=\"black\" points=\"4,-165.5 4,-201.5 196,-201.5 196,-165.5 4,-165.5\"/>\n<text text-anchor=\"middle\" x=\"19\" y=\"-179.8\" font-family=\"Times,serif\" font-size=\"14.00\">x2</text>\n<polyline fill=\"none\" stroke=\"black\" points=\"34,-165.5 34,-201.5 \"/>\n<text text-anchor=\"middle\" x=\"74\" y=\"-179.8\" font-family=\"Times,serif\" font-size=\"14.00\">data 0.0000</text>\n<polyline fill=\"none\" stroke=\"black\" points=\"114,-165.5 114,-201.5 \"/>\n<text text-anchor=\"middle\" x=\"155\" y=\"-179.8\" font-family=\"Times,serif\" font-size=\"14.00\">grad 0.5000</text>\n</g>\n<!-- 138222430001360&#45;&gt;138222430004432* -->\n<g id=\"edge13\" class=\"edge\">\n<title>138222430001360&#45;&gt;138222430004432*</title>\n<path fill=\"none\" stroke=\"black\" d=\"M172.53,-165.44C181.84,-162.67 191.2,-159.67 200,-156.5 210.53,-152.71 221.75,-147.9 231.72,-143.33\"/>\n<polygon fill=\"black\" stroke=\"black\" points=\"233.25,-146.48 240.82,-139.07 230.28,-140.14 233.25,-146.48\"/>\n</g>\n<!-- 138222430005008 -->\n<g id=\"node7\" class=\"node\">\n<title>138222430005008</title>\n<polygon fill=\"none\" stroke=\"black\" points=\"326,-55.5 326,-91.5 540,-91.5 540,-55.5 326,-55.5\"/>\n<text text-anchor=\"middle\" x=\"349.5\" y=\"-69.8\" font-family=\"Times,serif\" font-size=\"14.00\">x1w1</text>\n<polyline fill=\"none\" stroke=\"black\" points=\"373,-55.5 373,-91.5 \"/>\n<text text-anchor=\"middle\" x=\"415.5\" y=\"-69.8\" font-family=\"Times,serif\" font-size=\"14.00\">data &#45;6.0000</text>\n<polyline fill=\"none\" stroke=\"black\" points=\"458,-55.5 458,-91.5 \"/>\n<text text-anchor=\"middle\" x=\"499\" y=\"-69.8\" font-family=\"Times,serif\" font-size=\"14.00\">grad 0.5000</text>\n</g>\n<!-- 138222430005008&#45;&gt;138222430008912+ -->\n<g id=\"edge8\" class=\"edge\">\n<title>138222430005008&#45;&gt;138222430008912+</title>\n<path fill=\"none\" stroke=\"black\" d=\"M540.4,-90.6C549.72,-92.1 558.65,-93.53 566.68,-94.82\"/>\n<polygon fill=\"black\" stroke=\"black\" points=\"566.24,-98.3 576.66,-96.43 567.35,-91.39 566.24,-98.3\"/>\n</g>\n<!-- 138222430005008* -->\n<g id=\"node8\" class=\"node\">\n<title>138222430005008*</title>\n<ellipse fill=\"none\" stroke=\"black\" cx=\"263\" cy=\"-73.5\" rx=\"27\" ry=\"18\"/>\n<text text-anchor=\"middle\" x=\"263\" y=\"-69.8\" font-family=\"Times,serif\" font-size=\"14.00\">*</text>\n</g>\n<!-- 138222430005008*&#45;&gt;138222430005008 -->\n<g id=\"edge3\" class=\"edge\">\n<title>138222430005008*&#45;&gt;138222430005008</title>\n<path fill=\"none\" stroke=\"black\" d=\"M290.25,-73.5C297.7,-73.5 306.34,-73.5 315.59,-73.5\"/>\n<polygon fill=\"black\" stroke=\"black\" points=\"315.84,-77 325.84,-73.5 315.84,-70 315.84,-77\"/>\n</g>\n<!-- 138222430008080 -->\n<g id=\"node9\" class=\"node\">\n<title>138222430008080</title>\n<polygon fill=\"none\" stroke=\"black\" points=\"2,-55.5 2,-91.5 198,-91.5 198,-55.5 2,-55.5\"/>\n<text text-anchor=\"middle\" x=\"17\" y=\"-69.8\" font-family=\"Times,serif\" font-size=\"14.00\">x1</text>\n<polyline fill=\"none\" stroke=\"black\" points=\"32,-55.5 32,-91.5 \"/>\n<text text-anchor=\"middle\" x=\"72\" y=\"-69.8\" font-family=\"Times,serif\" font-size=\"14.00\">data 2.0000</text>\n<polyline fill=\"none\" stroke=\"black\" points=\"112,-55.5 112,-91.5 \"/>\n<text text-anchor=\"middle\" x=\"155\" y=\"-69.8\" font-family=\"Times,serif\" font-size=\"14.00\">grad &#45;1.5000</text>\n</g>\n<!-- 138222430008080&#45;&gt;138222430005008* -->\n<g id=\"edge6\" class=\"edge\">\n<title>138222430008080&#45;&gt;138222430005008*</title>\n<path fill=\"none\" stroke=\"black\" d=\"M198.37,-73.5C208.05,-73.5 217.4,-73.5 225.8,-73.5\"/>\n<polygon fill=\"black\" stroke=\"black\" points=\"225.91,-77 235.91,-73.5 225.91,-70 225.91,-77\"/>\n</g>\n<!-- 138222430006608 -->\n<g id=\"node10\" class=\"node\">\n<title>138222430006608</title>\n<polygon fill=\"none\" stroke=\"black\" points=\"1347,-109.5 1347,-145.5 1532,-145.5 1532,-109.5 1347,-109.5\"/>\n<text text-anchor=\"middle\" x=\"1358.5\" y=\"-123.8\" font-family=\"Times,serif\" font-size=\"14.00\">o</text>\n<polyline fill=\"none\" stroke=\"black\" points=\"1370,-109.5 1370,-145.5 \"/>\n<text text-anchor=\"middle\" x=\"1410\" y=\"-123.8\" font-family=\"Times,serif\" font-size=\"14.00\">data 0.7071</text>\n<polyline fill=\"none\" stroke=\"black\" points=\"1450,-109.5 1450,-145.5 \"/>\n<text text-anchor=\"middle\" x=\"1491\" y=\"-123.8\" font-family=\"Times,serif\" font-size=\"14.00\">grad 1.0000</text>\n</g>\n<!-- 138222430006608tanh -->\n<g id=\"node11\" class=\"node\">\n<title>138222430006608tanh</title>\n<ellipse fill=\"none\" stroke=\"black\" cx=\"1284\" cy=\"-127.5\" rx=\"27\" ry=\"18\"/>\n<text text-anchor=\"middle\" x=\"1284\" y=\"-123.8\" font-family=\"Times,serif\" font-size=\"14.00\">tanh</text>\n</g>\n<!-- 138222430006608tanh&#45;&gt;138222430006608 -->\n<g id=\"edge4\" class=\"edge\">\n<title>138222430006608tanh&#45;&gt;138222430006608</title>\n<path fill=\"none\" stroke=\"black\" d=\"M1311.04,-127.5C1318.58,-127.5 1327.3,-127.5 1336.57,-127.5\"/>\n<polygon fill=\"black\" stroke=\"black\" points=\"1336.81,-131 1346.81,-127.5 1336.81,-124 1336.81,-131\"/>\n</g>\n<!-- 138222430005072 -->\n<g id=\"node12\" class=\"node\">\n<title>138222430005072</title>\n<polygon fill=\"none\" stroke=\"black\" points=\"0,-0.5 0,-36.5 200,-36.5 200,-0.5 0,-0.5\"/>\n<text text-anchor=\"middle\" x=\"16.5\" y=\"-14.8\" font-family=\"Times,serif\" font-size=\"14.00\">w1</text>\n<polyline fill=\"none\" stroke=\"black\" points=\"33,-0.5 33,-36.5 \"/>\n<text text-anchor=\"middle\" x=\"75.5\" y=\"-14.8\" font-family=\"Times,serif\" font-size=\"14.00\">data &#45;3.0000</text>\n<polyline fill=\"none\" stroke=\"black\" points=\"118,-0.5 118,-36.5 \"/>\n<text text-anchor=\"middle\" x=\"159\" y=\"-14.8\" font-family=\"Times,serif\" font-size=\"14.00\">grad 1.0000</text>\n</g>\n<!-- 138222430005072&#45;&gt;138222430005008* -->\n<g id=\"edge11\" class=\"edge\">\n<title>138222430005072&#45;&gt;138222430005008*</title>\n<path fill=\"none\" stroke=\"black\" d=\"M169.28,-36.5C179.65,-39.61 190.16,-42.98 200,-46.5 210.28,-50.17 221.28,-54.74 231.11,-59.07\"/>\n<polygon fill=\"black\" stroke=\"black\" points=\"229.93,-62.37 240.48,-63.27 232.79,-55.99 229.93,-62.37\"/>\n</g>\n<!-- 138222430008720 -->\n<g id=\"node13\" class=\"node\">\n<title>138222430008720</title>\n<polygon fill=\"none\" stroke=\"black\" points=\"2.5,-110.5 2.5,-146.5 197.5,-146.5 197.5,-110.5 2.5,-110.5\"/>\n<text text-anchor=\"middle\" x=\"19\" y=\"-124.8\" font-family=\"Times,serif\" font-size=\"14.00\">w2</text>\n<polyline fill=\"none\" stroke=\"black\" points=\"35.5,-110.5 35.5,-146.5 \"/>\n<text text-anchor=\"middle\" x=\"75.5\" y=\"-124.8\" font-family=\"Times,serif\" font-size=\"14.00\">data 1.0000</text>\n<polyline fill=\"none\" stroke=\"black\" points=\"115.5,-110.5 115.5,-146.5 \"/>\n<text text-anchor=\"middle\" x=\"156.5\" y=\"-124.8\" font-family=\"Times,serif\" font-size=\"14.00\">grad 0.0000</text>\n</g>\n<!-- 138222430008720&#45;&gt;138222430004432* -->\n<g id=\"edge10\" class=\"edge\">\n<title>138222430008720&#45;&gt;138222430004432*</title>\n<path fill=\"none\" stroke=\"black\" d=\"M197.91,-128.5C207.65,-128.5 217.05,-128.5 225.52,-128.5\"/>\n<polygon fill=\"black\" stroke=\"black\" points=\"225.7,-132 235.7,-128.5 225.7,-125 225.7,-132\"/>\n</g>\n<!-- 138222430004176 -->\n<g id=\"node14\" class=\"node\">\n<title>138222430004176</title>\n<polygon fill=\"none\" stroke=\"black\" points=\"1036,-109.5 1036,-145.5 1221,-145.5 1221,-109.5 1036,-109.5\"/>\n<text text-anchor=\"middle\" x=\"1047.5\" y=\"-123.8\" font-family=\"Times,serif\" font-size=\"14.00\">n</text>\n<polyline fill=\"none\" stroke=\"black\" points=\"1059,-109.5 1059,-145.5 \"/>\n<text text-anchor=\"middle\" x=\"1099\" y=\"-123.8\" font-family=\"Times,serif\" font-size=\"14.00\">data 0.8814</text>\n<polyline fill=\"none\" stroke=\"black\" points=\"1139,-109.5 1139,-145.5 \"/>\n<text text-anchor=\"middle\" x=\"1180\" y=\"-123.8\" font-family=\"Times,serif\" font-size=\"14.00\">grad 0.5000</text>\n</g>\n<!-- 138222430004176&#45;&gt;138222430006608tanh -->\n<g id=\"edge14\" class=\"edge\">\n<title>138222430004176&#45;&gt;138222430006608tanh</title>\n<path fill=\"none\" stroke=\"black\" d=\"M1221.01,-127.5C1230.01,-127.5 1238.74,-127.5 1246.66,-127.5\"/>\n<polygon fill=\"black\" stroke=\"black\" points=\"1246.91,-131 1256.91,-127.5 1246.91,-124 1246.91,-131\"/>\n</g>\n<!-- 138222430004176+&#45;&gt;138222430004176 -->\n<g id=\"edge5\" class=\"edge\">\n<title>138222430004176+&#45;&gt;138222430004176</title>\n<path fill=\"none\" stroke=\"black\" d=\"M1000.04,-127.5C1007.58,-127.5 1016.3,-127.5 1025.57,-127.5\"/>\n<polygon fill=\"black\" stroke=\"black\" points=\"1025.81,-131 1035.81,-127.5 1025.81,-124 1025.81,-131\"/>\n</g>\n</g>\n</svg>\n",
            "text/plain": [
              "<graphviz.graphs.Digraph at 0x7db66af657d0>"
            ]
          },
          "metadata": {},
          "execution_count": 6
        }
      ]
    },
    {
      "cell_type": "code",
      "source": [
        "x1 = Value(2.0, label='x1')\n",
        "x2 = Value(0.0, label='x2')\n",
        "# weights w1, w2\n",
        "w1 = Value(-3.0, label='w1')\n",
        "w2 = Value(1.0, label='w2')\n",
        "# bias of the neuron\n",
        "b = Value(6.8813735870195432, label='b')\n",
        "x1w1 = x1 * w1; x1w1.label = 'x1w1'\n",
        "x2w2 = x2 * w2; x2w2.label = 'x2w2'\n",
        "x1w1x2w2 = x1w1 + x2w2; x1w1x2w2.label = 'x1w1x2w2'\n",
        "n = x1w1x2w2 + b; n.label = 'n'\n",
        "# --------\n",
        "x = 2*n\n",
        "o = (x.exp() - 1) / (x.exp() + 1); o.label = 'o'\n",
        "# --------\n",
        "o.backward()"
      ],
      "metadata": {
        "id": "14Hn-YOcakEc"
      },
      "execution_count": 7,
      "outputs": []
    },
    {
      "cell_type": "code",
      "source": [
        "draw_dot(o)"
      ],
      "metadata": {
        "id": "Rd-C5b6CcksM",
        "outputId": "73230318-9a99-4822-f8b5-297dd435225d",
        "colab": {
          "base_uri": "https://localhost:8080/",
          "height": 434
        }
      },
      "execution_count": 8,
      "outputs": [
        {
          "output_type": "execute_result",
          "data": {
            "image/svg+xml": "<?xml version=\"1.0\" encoding=\"UTF-8\" standalone=\"no\"?>\n<!DOCTYPE svg PUBLIC \"-//W3C//DTD SVG 1.1//EN\"\n \"http://www.w3.org/Graphics/SVG/1.1/DTD/svg11.dtd\">\n<!-- Generated by graphviz version 2.43.0 (0)\n -->\n<!-- Title: %3 Pages: 1 -->\n<svg width=\"2909pt\" height=\"294pt\"\n viewBox=\"0.00 0.00 2909.00 294.00\" xmlns=\"http://www.w3.org/2000/svg\" xmlns:xlink=\"http://www.w3.org/1999/xlink\">\n<g id=\"graph0\" class=\"graph\" transform=\"scale(1 1) rotate(0) translate(4 290)\">\n<title>%3</title>\n<polygon fill=\"white\" stroke=\"transparent\" points=\"-4,4 -4,-290 2905,-290 2905,4 -4,4\"/>\n<!-- 138222430271952 -->\n<g id=\"node1\" class=\"node\">\n<title>138222430271952</title>\n<polygon fill=\"none\" stroke=\"black\" points=\"2.5,-249.5 2.5,-285.5 197.5,-285.5 197.5,-249.5 2.5,-249.5\"/>\n<text text-anchor=\"middle\" x=\"19\" y=\"-263.8\" font-family=\"Times,serif\" font-size=\"14.00\">w2</text>\n<polyline fill=\"none\" stroke=\"black\" points=\"35.5,-249.5 35.5,-285.5 \"/>\n<text text-anchor=\"middle\" x=\"75.5\" y=\"-263.8\" font-family=\"Times,serif\" font-size=\"14.00\">data 1.0000</text>\n<polyline fill=\"none\" stroke=\"black\" points=\"115.5,-249.5 115.5,-285.5 \"/>\n<text text-anchor=\"middle\" x=\"156.5\" y=\"-263.8\" font-family=\"Times,serif\" font-size=\"14.00\">grad 0.0000</text>\n</g>\n<!-- 138222430272400* -->\n<g id=\"node12\" class=\"node\">\n<title>138222430272400*</title>\n<ellipse fill=\"none\" stroke=\"black\" cx=\"263\" cy=\"-212.5\" rx=\"27\" ry=\"18\"/>\n<text text-anchor=\"middle\" x=\"263\" y=\"-208.8\" font-family=\"Times,serif\" font-size=\"14.00\">*</text>\n</g>\n<!-- 138222430271952&#45;&gt;138222430272400* -->\n<g id=\"edge17\" class=\"edge\">\n<title>138222430271952&#45;&gt;138222430272400*</title>\n<path fill=\"none\" stroke=\"black\" d=\"M172.53,-249.44C181.84,-246.67 191.2,-243.67 200,-240.5 210.53,-236.71 221.75,-231.9 231.72,-227.33\"/>\n<polygon fill=\"black\" stroke=\"black\" points=\"233.25,-230.48 240.82,-223.07 230.28,-224.14 233.25,-230.48\"/>\n</g>\n<!-- 138222430272016 -->\n<g id=\"node2\" class=\"node\">\n<title>138222430272016</title>\n<polygon fill=\"none\" stroke=\"black\" points=\"1347,-110.5 1347,-146.5 1529,-146.5 1529,-110.5 1347,-110.5\"/>\n<text text-anchor=\"middle\" x=\"1357\" y=\"-124.8\" font-family=\"Times,serif\" font-size=\"14.00\"> </text>\n<polyline fill=\"none\" stroke=\"black\" points=\"1367,-110.5 1367,-146.5 \"/>\n<text text-anchor=\"middle\" x=\"1407\" y=\"-124.8\" font-family=\"Times,serif\" font-size=\"14.00\">data 1.7627</text>\n<polyline fill=\"none\" stroke=\"black\" points=\"1447,-110.5 1447,-146.5 \"/>\n<text text-anchor=\"middle\" x=\"1488\" y=\"-124.8\" font-family=\"Times,serif\" font-size=\"14.00\">grad 0.2500</text>\n</g>\n<!-- 138222430272208exp -->\n<g id=\"node8\" class=\"node\">\n<title>138222430272208exp</title>\n<ellipse fill=\"none\" stroke=\"black\" cx=\"1592\" cy=\"-169.5\" rx=\"27\" ry=\"18\"/>\n<text text-anchor=\"middle\" x=\"1592\" y=\"-165.8\" font-family=\"Times,serif\" font-size=\"14.00\">exp</text>\n</g>\n<!-- 138222430272016&#45;&gt;138222430272208exp -->\n<g id=\"edge16\" class=\"edge\">\n<title>138222430272016&#45;&gt;138222430272208exp</title>\n<path fill=\"none\" stroke=\"black\" d=\"M1506.11,-146.6C1523.69,-151.34 1541.91,-156.26 1556.94,-160.31\"/>\n<polygon fill=\"black\" stroke=\"black\" points=\"1556.22,-163.74 1566.79,-162.97 1558.05,-156.99 1556.22,-163.74\"/>\n</g>\n<!-- 138222430272528exp -->\n<g id=\"node15\" class=\"node\">\n<title>138222430272528exp</title>\n<ellipse fill=\"none\" stroke=\"black\" cx=\"1592\" cy=\"-101.5\" rx=\"27\" ry=\"18\"/>\n<text text-anchor=\"middle\" x=\"1592\" y=\"-97.8\" font-family=\"Times,serif\" font-size=\"14.00\">exp</text>\n</g>\n<!-- 138222430272016&#45;&gt;138222430272528exp -->\n<g id=\"edge27\" class=\"edge\">\n<title>138222430272016&#45;&gt;138222430272528exp</title>\n<path fill=\"none\" stroke=\"black\" d=\"M1529.18,-112.48C1538.42,-110.84 1547.38,-109.25 1555.47,-107.81\"/>\n<polygon fill=\"black\" stroke=\"black\" points=\"1556.32,-111.21 1565.56,-106.02 1555.1,-104.32 1556.32,-111.21\"/>\n</g>\n<!-- 138222430272016* -->\n<g id=\"node3\" class=\"node\">\n<title>138222430272016*</title>\n<ellipse fill=\"none\" stroke=\"black\" cx=\"1284\" cy=\"-128.5\" rx=\"27\" ry=\"18\"/>\n<text text-anchor=\"middle\" x=\"1284\" y=\"-124.8\" font-family=\"Times,serif\" font-size=\"14.00\">*</text>\n</g>\n<!-- 138222430272016*&#45;&gt;138222430272016 -->\n<g id=\"edge1\" class=\"edge\">\n<title>138222430272016*&#45;&gt;138222430272016</title>\n<path fill=\"none\" stroke=\"black\" d=\"M1311.13,-128.5C1318.67,-128.5 1327.39,-128.5 1336.64,-128.5\"/>\n<polygon fill=\"black\" stroke=\"black\" points=\"1336.87,-132 1346.87,-128.5 1336.87,-125 1336.87,-132\"/>\n</g>\n<!-- 138222430272080 -->\n<g id=\"node4\" class=\"node\">\n<title>138222430272080</title>\n<polygon fill=\"none\" stroke=\"black\" points=\"0,-139.5 0,-175.5 200,-175.5 200,-139.5 0,-139.5\"/>\n<text text-anchor=\"middle\" x=\"16.5\" y=\"-153.8\" font-family=\"Times,serif\" font-size=\"14.00\">w1</text>\n<polyline fill=\"none\" stroke=\"black\" points=\"33,-139.5 33,-175.5 \"/>\n<text text-anchor=\"middle\" x=\"75.5\" y=\"-153.8\" font-family=\"Times,serif\" font-size=\"14.00\">data &#45;3.0000</text>\n<polyline fill=\"none\" stroke=\"black\" points=\"118,-139.5 118,-175.5 \"/>\n<text text-anchor=\"middle\" x=\"159\" y=\"-153.8\" font-family=\"Times,serif\" font-size=\"14.00\">grad 1.0000</text>\n</g>\n<!-- 138222430011088* -->\n<g id=\"node23\" class=\"node\">\n<title>138222430011088*</title>\n<ellipse fill=\"none\" stroke=\"black\" cx=\"263\" cy=\"-157.5\" rx=\"27\" ry=\"18\"/>\n<text text-anchor=\"middle\" x=\"263\" y=\"-153.8\" font-family=\"Times,serif\" font-size=\"14.00\">*</text>\n</g>\n<!-- 138222430272080&#45;&gt;138222430011088* -->\n<g id=\"edge30\" class=\"edge\">\n<title>138222430272080&#45;&gt;138222430011088*</title>\n<path fill=\"none\" stroke=\"black\" d=\"M200.21,-157.5C209.2,-157.5 217.86,-157.5 225.7,-157.5\"/>\n<polygon fill=\"black\" stroke=\"black\" points=\"225.85,-161 235.85,-157.5 225.85,-154 225.85,-161\"/>\n</g>\n<!-- 138222430272144 -->\n<g id=\"node5\" class=\"node\">\n<title>138222430272144</title>\n<polygon fill=\"none\" stroke=\"black\" points=\"1036,-138.5 1036,-174.5 1221,-174.5 1221,-138.5 1036,-138.5\"/>\n<text text-anchor=\"middle\" x=\"1047.5\" y=\"-152.8\" font-family=\"Times,serif\" font-size=\"14.00\">n</text>\n<polyline fill=\"none\" stroke=\"black\" points=\"1059,-138.5 1059,-174.5 \"/>\n<text text-anchor=\"middle\" x=\"1099\" y=\"-152.8\" font-family=\"Times,serif\" font-size=\"14.00\">data 0.8814</text>\n<polyline fill=\"none\" stroke=\"black\" points=\"1139,-138.5 1139,-174.5 \"/>\n<text text-anchor=\"middle\" x=\"1180\" y=\"-152.8\" font-family=\"Times,serif\" font-size=\"14.00\">grad 0.5000</text>\n</g>\n<!-- 138222430272144&#45;&gt;138222430272016* -->\n<g id=\"edge25\" class=\"edge\">\n<title>138222430272144&#45;&gt;138222430272016*</title>\n<path fill=\"none\" stroke=\"black\" d=\"M1221.01,-139.81C1230.49,-138.08 1239.66,-136.41 1247.9,-134.9\"/>\n<polygon fill=\"black\" stroke=\"black\" points=\"1248.6,-138.33 1257.81,-133.09 1247.35,-131.45 1248.6,-138.33\"/>\n</g>\n<!-- 138222430272144+ -->\n<g id=\"node6\" class=\"node\">\n<title>138222430272144+</title>\n<ellipse fill=\"none\" stroke=\"black\" cx=\"973\" cy=\"-156.5\" rx=\"27\" ry=\"18\"/>\n<text text-anchor=\"middle\" x=\"973\" y=\"-152.8\" font-family=\"Times,serif\" font-size=\"14.00\">+</text>\n</g>\n<!-- 138222430272144+&#45;&gt;138222430272144 -->\n<g id=\"edge2\" class=\"edge\">\n<title>138222430272144+&#45;&gt;138222430272144</title>\n<path fill=\"none\" stroke=\"black\" d=\"M1000.04,-156.5C1007.58,-156.5 1016.3,-156.5 1025.57,-156.5\"/>\n<polygon fill=\"black\" stroke=\"black\" points=\"1025.81,-160 1035.81,-156.5 1025.81,-153 1025.81,-160\"/>\n</g>\n<!-- 138222430272208 -->\n<g id=\"node7\" class=\"node\">\n<title>138222430272208</title>\n<polygon fill=\"none\" stroke=\"black\" points=\"1657.5,-165.5 1657.5,-201.5 1839.5,-201.5 1839.5,-165.5 1657.5,-165.5\"/>\n<text text-anchor=\"middle\" x=\"1667.5\" y=\"-179.8\" font-family=\"Times,serif\" font-size=\"14.00\"> </text>\n<polyline fill=\"none\" stroke=\"black\" points=\"1677.5,-165.5 1677.5,-201.5 \"/>\n<text text-anchor=\"middle\" x=\"1717.5\" y=\"-179.8\" font-family=\"Times,serif\" font-size=\"14.00\">data 5.8284</text>\n<polyline fill=\"none\" stroke=\"black\" points=\"1757.5,-165.5 1757.5,-201.5 \"/>\n<text text-anchor=\"middle\" x=\"1798.5\" y=\"-179.8\" font-family=\"Times,serif\" font-size=\"14.00\">grad 0.1464</text>\n</g>\n<!-- 138222430272336+ -->\n<g id=\"node10\" class=\"node\">\n<title>138222430272336+</title>\n<ellipse fill=\"none\" stroke=\"black\" cx=\"1905\" cy=\"-128.5\" rx=\"27\" ry=\"18\"/>\n<text text-anchor=\"middle\" x=\"1905\" y=\"-124.8\" font-family=\"Times,serif\" font-size=\"14.00\">+</text>\n</g>\n<!-- 138222430272208&#45;&gt;138222430272336+ -->\n<g id=\"edge13\" class=\"edge\">\n<title>138222430272208&#45;&gt;138222430272336+</title>\n<path fill=\"none\" stroke=\"black\" d=\"M1815.56,-165.45C1824.51,-162.64 1833.53,-159.63 1842,-156.5 1852.49,-152.62 1863.71,-147.78 1873.68,-143.22\"/>\n<polygon fill=\"black\" stroke=\"black\" points=\"1875.2,-146.37 1882.79,-138.97 1872.25,-140.02 1875.2,-146.37\"/>\n</g>\n<!-- 138222430272208exp&#45;&gt;138222430272208 -->\n<g id=\"edge3\" class=\"edge\">\n<title>138222430272208exp&#45;&gt;138222430272208</title>\n<path fill=\"none\" stroke=\"black\" d=\"M1618.86,-171.84C1627.13,-172.59 1636.83,-173.47 1647.14,-174.41\"/>\n<polygon fill=\"black\" stroke=\"black\" points=\"1646.91,-177.9 1657.18,-175.32 1647.54,-170.93 1646.91,-177.9\"/>\n</g>\n<!-- 138222430272336 -->\n<g id=\"node9\" class=\"node\">\n<title>138222430272336</title>\n<polygon fill=\"none\" stroke=\"black\" points=\"2190,-110.5 2190,-146.5 2372,-146.5 2372,-110.5 2190,-110.5\"/>\n<text text-anchor=\"middle\" x=\"2200\" y=\"-124.8\" font-family=\"Times,serif\" font-size=\"14.00\"> </text>\n<polyline fill=\"none\" stroke=\"black\" points=\"2210,-110.5 2210,-146.5 \"/>\n<text text-anchor=\"middle\" x=\"2250\" y=\"-124.8\" font-family=\"Times,serif\" font-size=\"14.00\">data 4.8284</text>\n<polyline fill=\"none\" stroke=\"black\" points=\"2290,-110.5 2290,-146.5 \"/>\n<text text-anchor=\"middle\" x=\"2331\" y=\"-124.8\" font-family=\"Times,serif\" font-size=\"14.00\">grad 0.1464</text>\n</g>\n<!-- 138222430273360* -->\n<g id=\"node28\" class=\"node\">\n<title>138222430273360*</title>\n<ellipse fill=\"none\" stroke=\"black\" cx=\"2653\" cy=\"-100.5\" rx=\"27\" ry=\"18\"/>\n<text text-anchor=\"middle\" x=\"2653\" y=\"-96.8\" font-family=\"Times,serif\" font-size=\"14.00\">*</text>\n</g>\n<!-- 138222430272336&#45;&gt;138222430273360* -->\n<g id=\"edge23\" class=\"edge\">\n<title>138222430272336&#45;&gt;138222430273360*</title>\n<path fill=\"none\" stroke=\"black\" d=\"M2372.31,-121.9C2433.7,-117.37 2516.76,-111.19 2590,-105.5 2598.42,-104.85 2607.48,-104.13 2616.01,-103.44\"/>\n<polygon fill=\"black\" stroke=\"black\" points=\"2616.37,-106.92 2626.06,-102.63 2615.81,-99.94 2616.37,-106.92\"/>\n</g>\n<!-- 138222430272336+&#45;&gt;138222430272336 -->\n<g id=\"edge4\" class=\"edge\">\n<title>138222430272336+&#45;&gt;138222430272336</title>\n<path fill=\"none\" stroke=\"black\" d=\"M1932,-128.5C1982.46,-128.5 2096.06,-128.5 2179.81,-128.5\"/>\n<polygon fill=\"black\" stroke=\"black\" points=\"2179.87,-132 2189.87,-128.5 2179.87,-125 2179.87,-132\"/>\n</g>\n<!-- 138222430272400 -->\n<g id=\"node11\" class=\"node\">\n<title>138222430272400</title>\n<polygon fill=\"none\" stroke=\"black\" points=\"328.5,-194.5 328.5,-230.5 537.5,-230.5 537.5,-194.5 328.5,-194.5\"/>\n<text text-anchor=\"middle\" x=\"352\" y=\"-208.8\" font-family=\"Times,serif\" font-size=\"14.00\">x2w2</text>\n<polyline fill=\"none\" stroke=\"black\" points=\"375.5,-194.5 375.5,-230.5 \"/>\n<text text-anchor=\"middle\" x=\"415.5\" y=\"-208.8\" font-family=\"Times,serif\" font-size=\"14.00\">data 0.0000</text>\n<polyline fill=\"none\" stroke=\"black\" points=\"455.5,-194.5 455.5,-230.5 \"/>\n<text text-anchor=\"middle\" x=\"496.5\" y=\"-208.8\" font-family=\"Times,serif\" font-size=\"14.00\">grad 0.5000</text>\n</g>\n<!-- 138222430271248+ -->\n<g id=\"node26\" class=\"node\">\n<title>138222430271248+</title>\n<ellipse fill=\"none\" stroke=\"black\" cx=\"603\" cy=\"-184.5\" rx=\"27\" ry=\"18\"/>\n<text text-anchor=\"middle\" x=\"603\" y=\"-180.8\" font-family=\"Times,serif\" font-size=\"14.00\">+</text>\n</g>\n<!-- 138222430272400&#45;&gt;138222430271248+ -->\n<g id=\"edge12\" class=\"edge\">\n<title>138222430272400&#45;&gt;138222430271248+</title>\n<path fill=\"none\" stroke=\"black\" d=\"M537.53,-195.25C547.8,-193.53 557.66,-191.89 566.45,-190.43\"/>\n<polygon fill=\"black\" stroke=\"black\" points=\"567.3,-193.83 576.59,-188.74 566.15,-186.93 567.3,-193.83\"/>\n</g>\n<!-- 138222430272400*&#45;&gt;138222430272400 -->\n<g id=\"edge5\" class=\"edge\">\n<title>138222430272400*&#45;&gt;138222430272400</title>\n<path fill=\"none\" stroke=\"black\" d=\"M290.25,-212.5C298.43,-212.5 308.03,-212.5 318.31,-212.5\"/>\n<polygon fill=\"black\" stroke=\"black\" points=\"318.35,-216 328.35,-212.5 318.35,-209 318.35,-216\"/>\n</g>\n<!-- 138222430272464 -->\n<g id=\"node13\" class=\"node\">\n<title>138222430272464</title>\n<polygon fill=\"none\" stroke=\"black\" points=\"1037.5,-83.5 1037.5,-119.5 1219.5,-119.5 1219.5,-83.5 1037.5,-83.5\"/>\n<text text-anchor=\"middle\" x=\"1047.5\" y=\"-97.8\" font-family=\"Times,serif\" font-size=\"14.00\"> </text>\n<polyline fill=\"none\" stroke=\"black\" points=\"1057.5,-83.5 1057.5,-119.5 \"/>\n<text text-anchor=\"middle\" x=\"1097.5\" y=\"-97.8\" font-family=\"Times,serif\" font-size=\"14.00\">data 2.0000</text>\n<polyline fill=\"none\" stroke=\"black\" points=\"1137.5,-83.5 1137.5,-119.5 \"/>\n<text text-anchor=\"middle\" x=\"1178.5\" y=\"-97.8\" font-family=\"Times,serif\" font-size=\"14.00\">grad 0.2203</text>\n</g>\n<!-- 138222430272464&#45;&gt;138222430272016* -->\n<g id=\"edge20\" class=\"edge\">\n<title>138222430272464&#45;&gt;138222430272016*</title>\n<path fill=\"none\" stroke=\"black\" d=\"M1219.68,-117.36C1229.61,-119.11 1239.23,-120.8 1247.84,-122.32\"/>\n<polygon fill=\"black\" stroke=\"black\" points=\"1247.36,-125.78 1257.81,-124.07 1248.57,-118.89 1247.36,-125.78\"/>\n</g>\n<!-- 138222430272528 -->\n<g id=\"node14\" class=\"node\">\n<title>138222430272528</title>\n<polygon fill=\"none\" stroke=\"black\" points=\"1655.5,-55.5 1655.5,-91.5 1841.5,-91.5 1841.5,-55.5 1655.5,-55.5\"/>\n<text text-anchor=\"middle\" x=\"1665.5\" y=\"-69.8\" font-family=\"Times,serif\" font-size=\"14.00\"> </text>\n<polyline fill=\"none\" stroke=\"black\" points=\"1675.5,-55.5 1675.5,-91.5 \"/>\n<text text-anchor=\"middle\" x=\"1715.5\" y=\"-69.8\" font-family=\"Times,serif\" font-size=\"14.00\">data 5.8284</text>\n<polyline fill=\"none\" stroke=\"black\" points=\"1755.5,-55.5 1755.5,-91.5 \"/>\n<text text-anchor=\"middle\" x=\"1798.5\" y=\"-69.8\" font-family=\"Times,serif\" font-size=\"14.00\">grad &#45;0.1036</text>\n</g>\n<!-- 138222430273040+ -->\n<g id=\"node19\" class=\"node\">\n<title>138222430273040+</title>\n<ellipse fill=\"none\" stroke=\"black\" cx=\"1905\" cy=\"-73.5\" rx=\"27\" ry=\"18\"/>\n<text text-anchor=\"middle\" x=\"1905\" y=\"-69.8\" font-family=\"Times,serif\" font-size=\"14.00\">+</text>\n</g>\n<!-- 138222430272528&#45;&gt;138222430273040+ -->\n<g id=\"edge26\" class=\"edge\">\n<title>138222430272528&#45;&gt;138222430273040+</title>\n<path fill=\"none\" stroke=\"black\" d=\"M1841.6,-73.5C1850.77,-73.5 1859.65,-73.5 1867.69,-73.5\"/>\n<polygon fill=\"black\" stroke=\"black\" points=\"1867.74,-77 1877.74,-73.5 1867.74,-70 1867.74,-77\"/>\n</g>\n<!-- 138222430272528exp&#45;&gt;138222430272528 -->\n<g id=\"edge6\" class=\"edge\">\n<title>138222430272528exp&#45;&gt;138222430272528</title>\n<path fill=\"none\" stroke=\"black\" d=\"M1618.17,-96.94C1626.05,-95.51 1635.3,-93.83 1645.15,-92.05\"/>\n<polygon fill=\"black\" stroke=\"black\" points=\"1645.97,-95.46 1655.19,-90.23 1644.72,-88.57 1645.97,-95.46\"/>\n</g>\n<!-- 138222430272656 -->\n<g id=\"node16\" class=\"node\">\n<title>138222430272656</title>\n<polygon fill=\"none\" stroke=\"black\" points=\"1655,-110.5 1655,-146.5 1842,-146.5 1842,-110.5 1655,-110.5\"/>\n<text text-anchor=\"middle\" x=\"1665\" y=\"-124.8\" font-family=\"Times,serif\" font-size=\"14.00\"> </text>\n<polyline fill=\"none\" stroke=\"black\" points=\"1675,-110.5 1675,-146.5 \"/>\n<text text-anchor=\"middle\" x=\"1717.5\" y=\"-124.8\" font-family=\"Times,serif\" font-size=\"14.00\">data &#45;1.0000</text>\n<polyline fill=\"none\" stroke=\"black\" points=\"1760,-110.5 1760,-146.5 \"/>\n<text text-anchor=\"middle\" x=\"1801\" y=\"-124.8\" font-family=\"Times,serif\" font-size=\"14.00\">grad 0.1464</text>\n</g>\n<!-- 138222430272656&#45;&gt;138222430272336+ -->\n<g id=\"edge19\" class=\"edge\">\n<title>138222430272656&#45;&gt;138222430272336+</title>\n<path fill=\"none\" stroke=\"black\" d=\"M1842.05,-128.5C1851.06,-128.5 1859.79,-128.5 1867.7,-128.5\"/>\n<polygon fill=\"black\" stroke=\"black\" points=\"1867.95,-132 1877.95,-128.5 1867.95,-125 1867.95,-132\"/>\n</g>\n<!-- 138222430272848 -->\n<g id=\"node17\" class=\"node\">\n<title>138222430272848</title>\n<polygon fill=\"none\" stroke=\"black\" points=\"1655.5,-0.5 1655.5,-36.5 1841.5,-36.5 1841.5,-0.5 1655.5,-0.5\"/>\n<text text-anchor=\"middle\" x=\"1665.5\" y=\"-14.8\" font-family=\"Times,serif\" font-size=\"14.00\"> </text>\n<polyline fill=\"none\" stroke=\"black\" points=\"1675.5,-0.5 1675.5,-36.5 \"/>\n<text text-anchor=\"middle\" x=\"1715.5\" y=\"-14.8\" font-family=\"Times,serif\" font-size=\"14.00\">data 1.0000</text>\n<polyline fill=\"none\" stroke=\"black\" points=\"1755.5,-0.5 1755.5,-36.5 \"/>\n<text text-anchor=\"middle\" x=\"1798.5\" y=\"-14.8\" font-family=\"Times,serif\" font-size=\"14.00\">grad &#45;0.1036</text>\n</g>\n<!-- 138222430272848&#45;&gt;138222430273040+ -->\n<g id=\"edge24\" class=\"edge\">\n<title>138222430272848&#45;&gt;138222430273040+</title>\n<path fill=\"none\" stroke=\"black\" d=\"M1815.56,-36.55C1824.51,-39.36 1833.53,-42.37 1842,-45.5 1852.49,-49.38 1863.71,-54.22 1873.68,-58.78\"/>\n<polygon fill=\"black\" stroke=\"black\" points=\"1872.25,-61.98 1882.79,-63.03 1875.2,-55.63 1872.25,-61.98\"/>\n</g>\n<!-- 138222430273040 -->\n<g id=\"node18\" class=\"node\">\n<title>138222430273040</title>\n<polygon fill=\"none\" stroke=\"black\" points=\"1968,-55.5 1968,-91.5 2154,-91.5 2154,-55.5 1968,-55.5\"/>\n<text text-anchor=\"middle\" x=\"1978\" y=\"-69.8\" font-family=\"Times,serif\" font-size=\"14.00\"> </text>\n<polyline fill=\"none\" stroke=\"black\" points=\"1988,-55.5 1988,-91.5 \"/>\n<text text-anchor=\"middle\" x=\"2028\" y=\"-69.8\" font-family=\"Times,serif\" font-size=\"14.00\">data 6.8284</text>\n<polyline fill=\"none\" stroke=\"black\" points=\"2068,-55.5 2068,-91.5 \"/>\n<text text-anchor=\"middle\" x=\"2111\" y=\"-69.8\" font-family=\"Times,serif\" font-size=\"14.00\">grad &#45;0.1036</text>\n</g>\n<!-- 138222430273232**&#45;1 -->\n<g id=\"node21\" class=\"node\">\n<title>138222430273232**&#45;1</title>\n<ellipse fill=\"none\" stroke=\"black\" cx=\"2281\" cy=\"-73.5\" rx=\"27\" ry=\"18\"/>\n<text text-anchor=\"middle\" x=\"2281\" y=\"-69.8\" font-family=\"Times,serif\" font-size=\"14.00\">**&#45;1</text>\n</g>\n<!-- 138222430273040&#45;&gt;138222430273232**&#45;1 -->\n<g id=\"edge15\" class=\"edge\">\n<title>138222430273040&#45;&gt;138222430273232**&#45;1</title>\n<path fill=\"none\" stroke=\"black\" d=\"M2154.14,-73.5C2185.72,-73.5 2219.24,-73.5 2243.74,-73.5\"/>\n<polygon fill=\"black\" stroke=\"black\" points=\"2243.98,-77 2253.98,-73.5 2243.98,-70 2243.98,-77\"/>\n</g>\n<!-- 138222430273040+&#45;&gt;138222430273040 -->\n<g id=\"edge7\" class=\"edge\">\n<title>138222430273040+&#45;&gt;138222430273040</title>\n<path fill=\"none\" stroke=\"black\" d=\"M1932.12,-73.5C1939.62,-73.5 1948.29,-73.5 1957.5,-73.5\"/>\n<polygon fill=\"black\" stroke=\"black\" points=\"1957.69,-77 1967.69,-73.5 1957.69,-70 1957.69,-77\"/>\n</g>\n<!-- 138222430273232 -->\n<g id=\"node20\" class=\"node\">\n<title>138222430273232</title>\n<polygon fill=\"none\" stroke=\"black\" points=\"2408,-59.5 2408,-95.5 2590,-95.5 2590,-59.5 2408,-59.5\"/>\n<text text-anchor=\"middle\" x=\"2418\" y=\"-73.8\" font-family=\"Times,serif\" font-size=\"14.00\"> </text>\n<polyline fill=\"none\" stroke=\"black\" points=\"2428,-59.5 2428,-95.5 \"/>\n<text text-anchor=\"middle\" x=\"2468\" y=\"-73.8\" font-family=\"Times,serif\" font-size=\"14.00\">data 0.1464</text>\n<polyline fill=\"none\" stroke=\"black\" points=\"2508,-59.5 2508,-95.5 \"/>\n<text text-anchor=\"middle\" x=\"2549\" y=\"-73.8\" font-family=\"Times,serif\" font-size=\"14.00\">grad 4.8284</text>\n</g>\n<!-- 138222430273232&#45;&gt;138222430273360* -->\n<g id=\"edge14\" class=\"edge\">\n<title>138222430273232&#45;&gt;138222430273360*</title>\n<path fill=\"none\" stroke=\"black\" d=\"M2590.18,-91.15C2599.42,-92.54 2608.38,-93.9 2616.47,-95.12\"/>\n<polygon fill=\"black\" stroke=\"black\" points=\"2616.15,-98.61 2626.56,-96.65 2617.19,-91.69 2616.15,-98.61\"/>\n</g>\n<!-- 138222430273232**&#45;1&#45;&gt;138222430273232 -->\n<g id=\"edge8\" class=\"edge\">\n<title>138222430273232**&#45;1&#45;&gt;138222430273232</title>\n<path fill=\"none\" stroke=\"black\" d=\"M2308.05,-73.98C2330.53,-74.4 2364.48,-75.03 2397.5,-75.64\"/>\n<polygon fill=\"black\" stroke=\"black\" points=\"2397.64,-79.14 2407.7,-75.83 2397.77,-72.14 2397.64,-79.14\"/>\n</g>\n<!-- 138222430011088 -->\n<g id=\"node22\" class=\"node\">\n<title>138222430011088</title>\n<polygon fill=\"none\" stroke=\"black\" points=\"326,-139.5 326,-175.5 540,-175.5 540,-139.5 326,-139.5\"/>\n<text text-anchor=\"middle\" x=\"349.5\" y=\"-153.8\" font-family=\"Times,serif\" font-size=\"14.00\">x1w1</text>\n<polyline fill=\"none\" stroke=\"black\" points=\"373,-139.5 373,-175.5 \"/>\n<text text-anchor=\"middle\" x=\"415.5\" y=\"-153.8\" font-family=\"Times,serif\" font-size=\"14.00\">data &#45;6.0000</text>\n<polyline fill=\"none\" stroke=\"black\" points=\"458,-139.5 458,-175.5 \"/>\n<text text-anchor=\"middle\" x=\"499\" y=\"-153.8\" font-family=\"Times,serif\" font-size=\"14.00\">grad 0.5000</text>\n</g>\n<!-- 138222430011088&#45;&gt;138222430271248+ -->\n<g id=\"edge22\" class=\"edge\">\n<title>138222430011088&#45;&gt;138222430271248+</title>\n<path fill=\"none\" stroke=\"black\" d=\"M540.4,-174.6C549.72,-176.1 558.65,-177.53 566.68,-178.82\"/>\n<polygon fill=\"black\" stroke=\"black\" points=\"566.24,-182.3 576.66,-180.43 567.35,-175.39 566.24,-182.3\"/>\n</g>\n<!-- 138222430011088*&#45;&gt;138222430011088 -->\n<g id=\"edge9\" class=\"edge\">\n<title>138222430011088*&#45;&gt;138222430011088</title>\n<path fill=\"none\" stroke=\"black\" d=\"M290.25,-157.5C297.7,-157.5 306.34,-157.5 315.59,-157.5\"/>\n<polygon fill=\"black\" stroke=\"black\" points=\"315.84,-161 325.84,-157.5 315.84,-154 315.84,-161\"/>\n</g>\n<!-- 138222430271184 -->\n<g id=\"node24\" class=\"node\">\n<title>138222430271184</title>\n<polygon fill=\"none\" stroke=\"black\" points=\"2,-84.5 2,-120.5 198,-120.5 198,-84.5 2,-84.5\"/>\n<text text-anchor=\"middle\" x=\"17\" y=\"-98.8\" font-family=\"Times,serif\" font-size=\"14.00\">x1</text>\n<polyline fill=\"none\" stroke=\"black\" points=\"32,-84.5 32,-120.5 \"/>\n<text text-anchor=\"middle\" x=\"72\" y=\"-98.8\" font-family=\"Times,serif\" font-size=\"14.00\">data 2.0000</text>\n<polyline fill=\"none\" stroke=\"black\" points=\"112,-84.5 112,-120.5 \"/>\n<text text-anchor=\"middle\" x=\"155\" y=\"-98.8\" font-family=\"Times,serif\" font-size=\"14.00\">grad &#45;1.5000</text>\n</g>\n<!-- 138222430271184&#45;&gt;138222430011088* -->\n<g id=\"edge18\" class=\"edge\">\n<title>138222430271184&#45;&gt;138222430011088*</title>\n<path fill=\"none\" stroke=\"black\" d=\"M169.28,-120.5C179.65,-123.61 190.16,-126.98 200,-130.5 210.28,-134.17 221.28,-138.74 231.11,-143.07\"/>\n<polygon fill=\"black\" stroke=\"black\" points=\"229.93,-146.37 240.48,-147.27 232.79,-139.99 229.93,-146.37\"/>\n</g>\n<!-- 138222430271248 -->\n<g id=\"node25\" class=\"node\">\n<title>138222430271248</title>\n<polygon fill=\"none\" stroke=\"black\" points=\"666,-166.5 666,-202.5 910,-202.5 910,-166.5 666,-166.5\"/>\n<text text-anchor=\"middle\" x=\"704.5\" y=\"-180.8\" font-family=\"Times,serif\" font-size=\"14.00\">x1w1x2w2</text>\n<polyline fill=\"none\" stroke=\"black\" points=\"743,-166.5 743,-202.5 \"/>\n<text text-anchor=\"middle\" x=\"785.5\" y=\"-180.8\" font-family=\"Times,serif\" font-size=\"14.00\">data &#45;6.0000</text>\n<polyline fill=\"none\" stroke=\"black\" points=\"828,-166.5 828,-202.5 \"/>\n<text text-anchor=\"middle\" x=\"869\" y=\"-180.8\" font-family=\"Times,serif\" font-size=\"14.00\">grad 0.5000</text>\n</g>\n<!-- 138222430271248&#45;&gt;138222430272144+ -->\n<g id=\"edge21\" class=\"edge\">\n<title>138222430271248&#45;&gt;138222430272144+</title>\n<path fill=\"none\" stroke=\"black\" d=\"M906.71,-166.49C917.38,-164.86 927.53,-163.3 936.51,-161.93\"/>\n<polygon fill=\"black\" stroke=\"black\" points=\"937.13,-165.38 946.48,-160.4 936.07,-158.46 937.13,-165.38\"/>\n</g>\n<!-- 138222430271248+&#45;&gt;138222430271248 -->\n<g id=\"edge10\" class=\"edge\">\n<title>138222430271248+&#45;&gt;138222430271248</title>\n<path fill=\"none\" stroke=\"black\" d=\"M630.22,-184.5C637.7,-184.5 646.4,-184.5 655.79,-184.5\"/>\n<polygon fill=\"black\" stroke=\"black\" points=\"655.8,-188 665.8,-184.5 655.8,-181 655.8,-188\"/>\n</g>\n<!-- 138222430273360 -->\n<g id=\"node27\" class=\"node\">\n<title>138222430273360</title>\n<polygon fill=\"none\" stroke=\"black\" points=\"2716,-82.5 2716,-118.5 2901,-118.5 2901,-82.5 2716,-82.5\"/>\n<text text-anchor=\"middle\" x=\"2727.5\" y=\"-96.8\" font-family=\"Times,serif\" font-size=\"14.00\">o</text>\n<polyline fill=\"none\" stroke=\"black\" points=\"2739,-82.5 2739,-118.5 \"/>\n<text text-anchor=\"middle\" x=\"2779\" y=\"-96.8\" font-family=\"Times,serif\" font-size=\"14.00\">data 0.7071</text>\n<polyline fill=\"none\" stroke=\"black\" points=\"2819,-82.5 2819,-118.5 \"/>\n<text text-anchor=\"middle\" x=\"2860\" y=\"-96.8\" font-family=\"Times,serif\" font-size=\"14.00\">grad 1.0000</text>\n</g>\n<!-- 138222430273360*&#45;&gt;138222430273360 -->\n<g id=\"edge11\" class=\"edge\">\n<title>138222430273360*&#45;&gt;138222430273360</title>\n<path fill=\"none\" stroke=\"black\" d=\"M2680.04,-100.5C2687.58,-100.5 2696.3,-100.5 2705.57,-100.5\"/>\n<polygon fill=\"black\" stroke=\"black\" points=\"2705.81,-104 2715.81,-100.5 2705.81,-97 2705.81,-104\"/>\n</g>\n<!-- 138222430271376 -->\n<g id=\"node29\" class=\"node\">\n<title>138222430271376</title>\n<polygon fill=\"none\" stroke=\"black\" points=\"695.5,-111.5 695.5,-147.5 880.5,-147.5 880.5,-111.5 695.5,-111.5\"/>\n<text text-anchor=\"middle\" x=\"707\" y=\"-125.8\" font-family=\"Times,serif\" font-size=\"14.00\">b</text>\n<polyline fill=\"none\" stroke=\"black\" points=\"718.5,-111.5 718.5,-147.5 \"/>\n<text text-anchor=\"middle\" x=\"758.5\" y=\"-125.8\" font-family=\"Times,serif\" font-size=\"14.00\">data 6.8814</text>\n<polyline fill=\"none\" stroke=\"black\" points=\"798.5,-111.5 798.5,-147.5 \"/>\n<text text-anchor=\"middle\" x=\"839.5\" y=\"-125.8\" font-family=\"Times,serif\" font-size=\"14.00\">grad 0.5000</text>\n</g>\n<!-- 138222430271376&#45;&gt;138222430272144+ -->\n<g id=\"edge28\" class=\"edge\">\n<title>138222430271376&#45;&gt;138222430272144+</title>\n<path fill=\"none\" stroke=\"black\" d=\"M880.77,-143.04C900.52,-145.95 920.26,-148.87 936.29,-151.23\"/>\n<polygon fill=\"black\" stroke=\"black\" points=\"935.86,-154.71 946.26,-152.7 936.88,-147.78 935.86,-154.71\"/>\n</g>\n<!-- 138222430271440 -->\n<g id=\"node30\" class=\"node\">\n<title>138222430271440</title>\n<polygon fill=\"none\" stroke=\"black\" points=\"4,-194.5 4,-230.5 196,-230.5 196,-194.5 4,-194.5\"/>\n<text text-anchor=\"middle\" x=\"19\" y=\"-208.8\" font-family=\"Times,serif\" font-size=\"14.00\">x2</text>\n<polyline fill=\"none\" stroke=\"black\" points=\"34,-194.5 34,-230.5 \"/>\n<text text-anchor=\"middle\" x=\"74\" y=\"-208.8\" font-family=\"Times,serif\" font-size=\"14.00\">data 0.0000</text>\n<polyline fill=\"none\" stroke=\"black\" points=\"114,-194.5 114,-230.5 \"/>\n<text text-anchor=\"middle\" x=\"155\" y=\"-208.8\" font-family=\"Times,serif\" font-size=\"14.00\">grad 0.5000</text>\n</g>\n<!-- 138222430271440&#45;&gt;138222430272400* -->\n<g id=\"edge29\" class=\"edge\">\n<title>138222430271440&#45;&gt;138222430272400*</title>\n<path fill=\"none\" stroke=\"black\" d=\"M196.05,-212.5C206.52,-212.5 216.65,-212.5 225.71,-212.5\"/>\n<polygon fill=\"black\" stroke=\"black\" points=\"225.79,-216 235.79,-212.5 225.79,-209 225.79,-216\"/>\n</g>\n</g>\n</svg>\n",
            "text/plain": [
              "<graphviz.graphs.Digraph at 0x7db66b82dad0>"
            ]
          },
          "metadata": {},
          "execution_count": 8
        }
      ]
    },
    {
      "cell_type": "code",
      "source": [
        "import torch"
      ],
      "metadata": {
        "id": "x-ean6yKcmod"
      },
      "execution_count": 9,
      "outputs": []
    },
    {
      "cell_type": "code",
      "source": [
        "x1 = torch.Tensor([2.0]).double(); x1.requires_grad = True\n",
        "x2 = torch.Tensor([0.0]).double(); x2.requires_grad = True\n",
        "w1 = torch.Tensor([-3.0]).double(); w1.requires_grad = True\n",
        "w2 = torch.Tensor([1.0]).double(); w2.requires_grad = True\n",
        "b = torch.Tensor([6.8813735870195432]).double(); b.requires_grad = True\n",
        "n = x1*w1 + x2*w2 + b\n",
        "o = torch.tanh(n)\n",
        "\n",
        "print(o.data.item())\n",
        "o.backward()\n",
        "\n",
        "print('---')\n",
        "print('x2', x2.grad.item())\n",
        "print('w2', w2.grad.item())\n",
        "print('x1', x1.grad.item())\n",
        "print('w1', w1.grad.item())"
      ],
      "metadata": {
        "colab": {
          "base_uri": "https://localhost:8080/"
        },
        "id": "be6VPjH3KrSO",
        "outputId": "c472126d-f3b6-4d8e-dc03-d8570ba78bc4"
      },
      "execution_count": 10,
      "outputs": [
        {
          "output_type": "stream",
          "name": "stdout",
          "text": [
            "0.7071066904050358\n",
            "---\n",
            "x2 0.5000001283844369\n",
            "w2 0.0\n",
            "x1 -1.5000003851533106\n",
            "w1 1.0000002567688737\n"
          ]
        }
      ]
    },
    {
      "cell_type": "code",
      "source": [
        "x2.grad"
      ],
      "metadata": {
        "colab": {
          "base_uri": "https://localhost:8080/"
        },
        "id": "R6o6ffFsNgWP",
        "outputId": "321c55ba-2e89-4226-d1d1-4a86f919cb05"
      },
      "execution_count": 11,
      "outputs": [
        {
          "output_type": "execute_result",
          "data": {
            "text/plain": [
              "tensor([0.5000], dtype=torch.float64)"
            ]
          },
          "metadata": {},
          "execution_count": 11
        }
      ]
    },
    {
      "cell_type": "code",
      "source": [
        "import random"
      ],
      "metadata": {
        "id": "uq_90-TfRTEc"
      },
      "execution_count": 12,
      "outputs": []
    },
    {
      "cell_type": "code",
      "source": [
        "class Neuron:\n",
        "  # the constructor will take the number of inputs that come to a neuron\n",
        "  def __init__(self, nin):\n",
        "    self.w = [Value(random.uniform(-1, 1)) for _ in range(nin)]\n",
        "    self.b = Value(random.uniform(-1, 1))\n",
        "\n",
        "  def __call__(self, x):\n",
        "    # w * x + b\n",
        "    act = sum((wi*xi for wi, xi in zip(self.w, x)), self.b)\n",
        "    # and now we need to pass it through some non-linearity\n",
        "    out = act.tanh()\n",
        "    return out\n",
        "\n",
        "  def parameters(self):\n",
        "    return self.w + [self.b]\n",
        "\n",
        "class Layer:\n",
        "  # nout - is basically the number of neurons you want in this layer i.e. the number of outputs\n",
        "  def __init__(self, nin, nout):\n",
        "    self.neurons = [Neuron(nin) for _ in range(nout)]\n",
        "\n",
        "  def __call__(self, x):\n",
        "    outs = [n(x) for n in self.neurons]\n",
        "    return outs[0] if len(outs) == 1 else outs;\n",
        "\n",
        "  def parameters(self):\n",
        "    return [p for neuron in self.neurons for p in neuron.parameters()]\n",
        "\n",
        "\n",
        "class MLP:\n",
        "  # in the Layer class we took nout which was the number of outputs of a single layer, here 'nouts' would be a list of number of outputs for each layer\n",
        "  def __init__(self, nin, nouts):\n",
        "    sz = [nin] + nouts\n",
        "    self.layers = [Layer(sz[i], sz[i+1]) for i in range(len(nouts))]\n",
        "\n",
        "  def __call__(self, x):\n",
        "    for layer in self.layers:\n",
        "      x = layer(x)\n",
        "    return x\n",
        "\n",
        "  def parameters(self):\n",
        "    return [p for layer in self.layers for p in layer.parameters()]\n",
        "\n",
        "x = [2.0, 3.0, -1.0] # here we have a 3-d input\n",
        "n = MLP(3, [4, 4, 1]) # this basically signifies that we have 3 inputs in 2 layers of 4 and 1 output\n",
        "n(x) # output of the forward pass of the Multi Layer Perceptron that we just built"
      ],
      "metadata": {
        "colab": {
          "base_uri": "https://localhost:8080/"
        },
        "id": "kK5tVcHpQJrt",
        "outputId": "d7e00088-4e0b-44ad-cdca-b4657cb58a34"
      },
      "execution_count": 13,
      "outputs": [
        {
          "output_type": "execute_result",
          "data": {
            "text/plain": [
              "Value(data=0.7207733123753186)"
            ]
          },
          "metadata": {},
          "execution_count": 13
        }
      ]
    },
    {
      "cell_type": "code",
      "source": [
        "n.parameters()"
      ],
      "metadata": {
        "colab": {
          "base_uri": "https://localhost:8080/"
        },
        "id": "IIF6hhgZosLG",
        "outputId": "e6f51f6b-8af6-4a30-f7e0-a84cde1b7664"
      },
      "execution_count": 14,
      "outputs": [
        {
          "output_type": "execute_result",
          "data": {
            "text/plain": [
              "[Value(data=0.26354777778031124),\n",
              " Value(data=0.07637574936977631),\n",
              " Value(data=-0.24527378508047848),\n",
              " Value(data=-0.09389725801413995),\n",
              " Value(data=-0.17789097601956172),\n",
              " Value(data=0.3779495870375966),\n",
              " Value(data=0.36960933849763),\n",
              " Value(data=0.4644480075735562),\n",
              " Value(data=-0.26002765245015547),\n",
              " Value(data=0.9210266875942619),\n",
              " Value(data=-0.08636160072667742),\n",
              " Value(data=-0.889027475329472),\n",
              " Value(data=0.5690698211230873),\n",
              " Value(data=0.1719135344984779),\n",
              " Value(data=0.9951642895722908),\n",
              " Value(data=0.10036094385455874),\n",
              " Value(data=0.5941234703684539),\n",
              " Value(data=-0.33264032934961363),\n",
              " Value(data=0.2642481064329416),\n",
              " Value(data=-0.5654924164308062),\n",
              " Value(data=0.005235536937780116),\n",
              " Value(data=-0.8235185753371501),\n",
              " Value(data=0.13432407765850507),\n",
              " Value(data=-0.22961516779019475),\n",
              " Value(data=-0.017068375006253245),\n",
              " Value(data=0.7472306706884042),\n",
              " Value(data=-0.7556870960818662),\n",
              " Value(data=0.3213007930893399),\n",
              " Value(data=-0.9967969417440787),\n",
              " Value(data=0.680363468298294),\n",
              " Value(data=-0.8046109100182841),\n",
              " Value(data=0.750069478755722),\n",
              " Value(data=-0.7011522007884132),\n",
              " Value(data=0.8362566795184279),\n",
              " Value(data=-0.07992204044462548),\n",
              " Value(data=-0.45826757841592225),\n",
              " Value(data=-0.3241996354054668),\n",
              " Value(data=0.9467675586441009),\n",
              " Value(data=-0.6563074874866781),\n",
              " Value(data=-0.753793168362392),\n",
              " Value(data=0.508756742314588)]"
            ]
          },
          "metadata": {},
          "execution_count": 14
        }
      ]
    },
    {
      "cell_type": "code",
      "source": [
        "xs = [\n",
        "    [2.0, 3.0, -1.0],\n",
        "    [3.0, -1.0, 0.5],\n",
        "    [0.5, 1.0, 1.0],\n",
        "    [1.0, 1.0, -1.0]\n",
        "]\n",
        "ys = [1.0, -1.0, -1.0, 1.0] # desired targets"
      ],
      "metadata": {
        "id": "yxhUuAPDa--7"
      },
      "execution_count": 34,
      "outputs": []
    },
    {
      "cell_type": "code",
      "source": [
        "for k in range(20):\n",
        "  # forward pass\n",
        "  ypred = [n(x) for x in xs]\n",
        "  loss = sum(((yout - ygt)**2 for ygt, yout in zip(ys, ypred)), Value(0.0)) # mean squared loss and now our task is to tune the neural net weights in such a way as to minimise the loss\n",
        "\n",
        "  # backward pass\n",
        "  for p in n.parameters():\n",
        "    p.grad = 0.0\n",
        "  loss.backward()\n",
        "\n",
        "  # update\n",
        "  for p in n.parameters():\n",
        "    p.data += -0.05 * p.grad\n",
        "\n",
        "  print(k, loss.data)"
      ],
      "metadata": {
        "colab": {
          "base_uri": "https://localhost:8080/"
        },
        "id": "y-ZHCH2Bgz00",
        "outputId": "0f2e3458-8123-467c-eea2-02f3b2e58d0d"
      },
      "execution_count": 35,
      "outputs": [
        {
          "output_type": "stream",
          "name": "stdout",
          "text": [
            "0 3.4650450047935114e-07\n",
            "1 3.4650398447645194e-07\n",
            "2 3.4650346847513876e-07\n",
            "3 3.4650295247540423e-07\n",
            "4 3.465024364772402e-07\n",
            "5 3.4650192048079455e-07\n",
            "6 3.4650140448564745e-07\n",
            "7 3.4650088849232353e-07\n",
            "8 3.465003725005355e-07\n",
            "9 3.4649985651015084e-07\n",
            "10 3.4649934052145717e-07\n",
            "11 3.464988245344891e-07\n",
            "12 3.4649830854894457e-07\n",
            "13 3.464977925648381e-07\n",
            "14 3.464972765824428e-07\n",
            "15 3.4649676060148555e-07\n",
            "16 3.4649624462221195e-07\n",
            "17 3.464957286445603e-07\n",
            "18 3.464952126685207e-07\n",
            "19 3.4649469669382704e-07\n"
          ]
        }
      ]
    },
    {
      "cell_type": "code",
      "source": [
        "ypred"
      ],
      "metadata": {
        "colab": {
          "base_uri": "https://localhost:8080/"
        },
        "id": "ksS1X4c6zKJI",
        "outputId": "2367c7e0-90a4-4aae-fa16-ba0ebfaafc6f"
      },
      "execution_count": 32,
      "outputs": [
        {
          "output_type": "execute_result",
          "data": {
            "text/plain": [
              "[Value(data=0.999967272462043),\n",
              " Value(data=-0.9995273199814839),\n",
              " Value(data=-0.9996507436279852),\n",
              " Value(data=0.9999938492387243)]"
            ]
          },
          "metadata": {},
          "execution_count": 32
        }
      ]
    },
    {
      "cell_type": "code",
      "source": [],
      "metadata": {
        "id": "LQCm1xeuzRTk"
      },
      "execution_count": null,
      "outputs": []
    }
  ]
}